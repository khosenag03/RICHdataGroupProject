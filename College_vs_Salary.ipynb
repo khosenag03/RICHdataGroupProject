{
 "cells": [
  {
   "cell_type": "code",
   "execution_count": 275,
   "metadata": {},
   "outputs": [],
   "source": [
    "import pandas as pd\n",
    "import numpy as np\n",
    "import matplotlib.pyplot as plt\n",
    "\n"
   ]
  },
  {
   "cell_type": "code",
   "execution_count": 276,
   "metadata": {},
   "outputs": [],
   "source": [
    "#Read the income return on the type of degree CSV\n",
    "Degrees_Payback = pd.read_csv('degrees-that-pay-back.csv')\n",
    "Degree_df = pd.DataFrame(Degrees_Payback)\n",
    "\n",
    "#Ready the salary averages based on college type\n",
    "Salary_By_College = pd.read_csv('salaries-by-college-type.csv')\n",
    "College_Salary_df = pd.DataFrame(Salary_By_College)\n",
    "\n",
    "#Read the income based upon region\n",
    "Salary_By_Region = pd.read_csv('salaries-by-region.csv')\n",
    "Region_Salary_df = pd.DataFrame(Salary_By_Region)\n",
    "\n"
   ]
  },
  {
   "cell_type": "code",
   "execution_count": 277,
   "metadata": {
    "scrolled": true
   },
   "outputs": [
    {
     "data": {
      "text/html": [
       "<div>\n",
       "<style scoped>\n",
       "    .dataframe tbody tr th:only-of-type {\n",
       "        vertical-align: middle;\n",
       "    }\n",
       "\n",
       "    .dataframe tbody tr th {\n",
       "        vertical-align: top;\n",
       "    }\n",
       "\n",
       "    .dataframe thead th {\n",
       "        text-align: right;\n",
       "    }\n",
       "</style>\n",
       "<table border=\"1\" class=\"dataframe\">\n",
       "  <thead>\n",
       "    <tr style=\"text-align: right;\">\n",
       "      <th></th>\n",
       "      <th>School Name</th>\n",
       "      <th>Region</th>\n",
       "      <th>Starting Median Salary</th>\n",
       "      <th>Mid-Career Median Salary</th>\n",
       "      <th>Mid-Career 10th Percentile Salary</th>\n",
       "      <th>Mid-Career 25th Percentile Salary</th>\n",
       "      <th>Mid-Career 75th Percentile Salary</th>\n",
       "      <th>Mid-Career 90th Percentile Salary</th>\n",
       "    </tr>\n",
       "  </thead>\n",
       "  <tbody>\n",
       "    <tr>\n",
       "      <th>0</th>\n",
       "      <td>Stanford University</td>\n",
       "      <td>California</td>\n",
       "      <td>$70,400.00</td>\n",
       "      <td>$129,000.00</td>\n",
       "      <td>$68,400.00</td>\n",
       "      <td>$93,100.00</td>\n",
       "      <td>$184,000.00</td>\n",
       "      <td>$257,000.00</td>\n",
       "    </tr>\n",
       "    <tr>\n",
       "      <th>1</th>\n",
       "      <td>California Institute of Technology (CIT)</td>\n",
       "      <td>California</td>\n",
       "      <td>$75,500.00</td>\n",
       "      <td>$123,000.00</td>\n",
       "      <td>NaN</td>\n",
       "      <td>$104,000.00</td>\n",
       "      <td>$161,000.00</td>\n",
       "      <td>NaN</td>\n",
       "    </tr>\n",
       "    <tr>\n",
       "      <th>2</th>\n",
       "      <td>Harvey Mudd College</td>\n",
       "      <td>California</td>\n",
       "      <td>$71,800.00</td>\n",
       "      <td>$122,000.00</td>\n",
       "      <td>NaN</td>\n",
       "      <td>$96,000.00</td>\n",
       "      <td>$180,000.00</td>\n",
       "      <td>NaN</td>\n",
       "    </tr>\n",
       "    <tr>\n",
       "      <th>3</th>\n",
       "      <td>University of California, Berkeley</td>\n",
       "      <td>California</td>\n",
       "      <td>$59,900.00</td>\n",
       "      <td>$112,000.00</td>\n",
       "      <td>$59,500.00</td>\n",
       "      <td>$81,000.00</td>\n",
       "      <td>$149,000.00</td>\n",
       "      <td>$201,000.00</td>\n",
       "    </tr>\n",
       "    <tr>\n",
       "      <th>4</th>\n",
       "      <td>Occidental College</td>\n",
       "      <td>California</td>\n",
       "      <td>$51,900.00</td>\n",
       "      <td>$105,000.00</td>\n",
       "      <td>NaN</td>\n",
       "      <td>$54,800.00</td>\n",
       "      <td>$157,000.00</td>\n",
       "      <td>NaN</td>\n",
       "    </tr>\n",
       "  </tbody>\n",
       "</table>\n",
       "</div>"
      ],
      "text/plain": [
       "                                School Name      Region  \\\n",
       "0                       Stanford University  California   \n",
       "1  California Institute of Technology (CIT)  California   \n",
       "2                       Harvey Mudd College  California   \n",
       "3        University of California, Berkeley  California   \n",
       "4                        Occidental College  California   \n",
       "\n",
       "  Starting Median Salary Mid-Career Median Salary  \\\n",
       "0            $70,400.00              $129,000.00    \n",
       "1            $75,500.00              $123,000.00    \n",
       "2            $71,800.00              $122,000.00    \n",
       "3            $59,900.00              $112,000.00    \n",
       "4            $51,900.00              $105,000.00    \n",
       "\n",
       "  Mid-Career 10th Percentile Salary Mid-Career 25th Percentile Salary  \\\n",
       "0                       $68,400.00                        $93,100.00    \n",
       "1                               NaN                      $104,000.00    \n",
       "2                               NaN                       $96,000.00    \n",
       "3                       $59,500.00                        $81,000.00    \n",
       "4                               NaN                       $54,800.00    \n",
       "\n",
       "  Mid-Career 75th Percentile Salary Mid-Career 90th Percentile Salary  \n",
       "0                      $184,000.00                       $257,000.00   \n",
       "1                      $161,000.00                                NaN  \n",
       "2                      $180,000.00                                NaN  \n",
       "3                      $149,000.00                       $201,000.00   \n",
       "4                      $157,000.00                                NaN  "
      ]
     },
     "execution_count": 277,
     "metadata": {},
     "output_type": "execute_result"
    }
   ],
   "source": [
    "Region_Salary_df.head()"
   ]
  },
  {
   "cell_type": "code",
   "execution_count": 278,
   "metadata": {},
   "outputs": [
    {
     "data": {
      "text/html": [
       "<div>\n",
       "<style scoped>\n",
       "    .dataframe tbody tr th:only-of-type {\n",
       "        vertical-align: middle;\n",
       "    }\n",
       "\n",
       "    .dataframe tbody tr th {\n",
       "        vertical-align: top;\n",
       "    }\n",
       "\n",
       "    .dataframe thead th {\n",
       "        text-align: right;\n",
       "    }\n",
       "</style>\n",
       "<table border=\"1\" class=\"dataframe\">\n",
       "  <thead>\n",
       "    <tr style=\"text-align: right;\">\n",
       "      <th></th>\n",
       "      <th>School Name</th>\n",
       "      <th>Region</th>\n",
       "      <th>Starting Median Salary</th>\n",
       "      <th>Mid-Career Median Salary</th>\n",
       "      <th>Mid-Career 10th Percentile Salary</th>\n",
       "      <th>Mid-Career 25th Percentile Salary</th>\n",
       "      <th>Mid-Career 75th Percentile Salary</th>\n",
       "      <th>Mid-Career 90th Percentile Salary</th>\n",
       "      <th>Is_Duplicated</th>\n",
       "    </tr>\n",
       "  </thead>\n",
       "  <tbody>\n",
       "    <tr>\n",
       "      <th>0</th>\n",
       "      <td>Stanford University</td>\n",
       "      <td>California</td>\n",
       "      <td>$70,400.00</td>\n",
       "      <td>$129,000.00</td>\n",
       "      <td>$68,400.00</td>\n",
       "      <td>$93,100.00</td>\n",
       "      <td>$184,000.00</td>\n",
       "      <td>$257,000.00</td>\n",
       "      <td>False</td>\n",
       "    </tr>\n",
       "    <tr>\n",
       "      <th>1</th>\n",
       "      <td>California Institute of Technology (CIT)</td>\n",
       "      <td>California</td>\n",
       "      <td>$75,500.00</td>\n",
       "      <td>$123,000.00</td>\n",
       "      <td>NaN</td>\n",
       "      <td>$104,000.00</td>\n",
       "      <td>$161,000.00</td>\n",
       "      <td>NaN</td>\n",
       "      <td>False</td>\n",
       "    </tr>\n",
       "    <tr>\n",
       "      <th>2</th>\n",
       "      <td>Harvey Mudd College</td>\n",
       "      <td>California</td>\n",
       "      <td>$71,800.00</td>\n",
       "      <td>$122,000.00</td>\n",
       "      <td>NaN</td>\n",
       "      <td>$96,000.00</td>\n",
       "      <td>$180,000.00</td>\n",
       "      <td>NaN</td>\n",
       "      <td>False</td>\n",
       "    </tr>\n",
       "    <tr>\n",
       "      <th>3</th>\n",
       "      <td>University of California, Berkeley</td>\n",
       "      <td>California</td>\n",
       "      <td>$59,900.00</td>\n",
       "      <td>$112,000.00</td>\n",
       "      <td>$59,500.00</td>\n",
       "      <td>$81,000.00</td>\n",
       "      <td>$149,000.00</td>\n",
       "      <td>$201,000.00</td>\n",
       "      <td>False</td>\n",
       "    </tr>\n",
       "    <tr>\n",
       "      <th>4</th>\n",
       "      <td>Occidental College</td>\n",
       "      <td>California</td>\n",
       "      <td>$51,900.00</td>\n",
       "      <td>$105,000.00</td>\n",
       "      <td>NaN</td>\n",
       "      <td>$54,800.00</td>\n",
       "      <td>$157,000.00</td>\n",
       "      <td>NaN</td>\n",
       "      <td>False</td>\n",
       "    </tr>\n",
       "  </tbody>\n",
       "</table>\n",
       "</div>"
      ],
      "text/plain": [
       "                                School Name      Region  \\\n",
       "0                       Stanford University  California   \n",
       "1  California Institute of Technology (CIT)  California   \n",
       "2                       Harvey Mudd College  California   \n",
       "3        University of California, Berkeley  California   \n",
       "4                        Occidental College  California   \n",
       "\n",
       "  Starting Median Salary Mid-Career Median Salary  \\\n",
       "0            $70,400.00              $129,000.00    \n",
       "1            $75,500.00              $123,000.00    \n",
       "2            $71,800.00              $122,000.00    \n",
       "3            $59,900.00              $112,000.00    \n",
       "4            $51,900.00              $105,000.00    \n",
       "\n",
       "  Mid-Career 10th Percentile Salary Mid-Career 25th Percentile Salary  \\\n",
       "0                       $68,400.00                        $93,100.00    \n",
       "1                               NaN                      $104,000.00    \n",
       "2                               NaN                       $96,000.00    \n",
       "3                       $59,500.00                        $81,000.00    \n",
       "4                               NaN                       $54,800.00    \n",
       "\n",
       "  Mid-Career 75th Percentile Salary Mid-Career 90th Percentile Salary  \\\n",
       "0                      $184,000.00                       $257,000.00    \n",
       "1                      $161,000.00                                NaN   \n",
       "2                      $180,000.00                                NaN   \n",
       "3                      $149,000.00                       $201,000.00    \n",
       "4                      $157,000.00                                NaN   \n",
       "\n",
       "   Is_Duplicated  \n",
       "0          False  \n",
       "1          False  \n",
       "2          False  \n",
       "3          False  \n",
       "4          False  "
      ]
     },
     "execution_count": 278,
     "metadata": {},
     "output_type": "execute_result"
    }
   ],
   "source": [
    "#Check for duplicate rows and create a column for duplicate Rows in DF (There were non)\n",
    "Region_Salary_df[\"Is_Duplicated\"]= Region_Salary_df.duplicated()\n",
    "Region_Salary_df.head()\n",
    "\n",
    "#Removing Duplicate Rows if there were any\n",
    "#Region_Salary_df = Region_Salary_df.drop_duplicates()\n",
    "#Region_Salary_df"
   ]
  },
  {
   "cell_type": "code",
   "execution_count": 279,
   "metadata": {},
   "outputs": [
    {
     "data": {
      "text/html": [
       "<div>\n",
       "<style scoped>\n",
       "    .dataframe tbody tr th:only-of-type {\n",
       "        vertical-align: middle;\n",
       "    }\n",
       "\n",
       "    .dataframe tbody tr th {\n",
       "        vertical-align: top;\n",
       "    }\n",
       "\n",
       "    .dataframe thead th {\n",
       "        text-align: right;\n",
       "    }\n",
       "</style>\n",
       "<table border=\"1\" class=\"dataframe\">\n",
       "  <thead>\n",
       "    <tr style=\"text-align: right;\">\n",
       "      <th></th>\n",
       "      <th>School Name</th>\n",
       "      <th>Region</th>\n",
       "      <th>Starting_Mid</th>\n",
       "      <th>Mid_Sal</th>\n",
       "      <th>Mid_10th</th>\n",
       "      <th>Mid_25th</th>\n",
       "      <th>Mid_75th</th>\n",
       "      <th>Mid_90th</th>\n",
       "      <th>Is_Duplicated</th>\n",
       "    </tr>\n",
       "  </thead>\n",
       "  <tbody>\n",
       "    <tr>\n",
       "      <th>0</th>\n",
       "      <td>Stanford University</td>\n",
       "      <td>California</td>\n",
       "      <td>$70,400.00</td>\n",
       "      <td>$129,000.00</td>\n",
       "      <td>$68,400.00</td>\n",
       "      <td>$93,100.00</td>\n",
       "      <td>$184,000.00</td>\n",
       "      <td>$257,000.00</td>\n",
       "      <td>False</td>\n",
       "    </tr>\n",
       "    <tr>\n",
       "      <th>1</th>\n",
       "      <td>California Institute of Technology (CIT)</td>\n",
       "      <td>California</td>\n",
       "      <td>$75,500.00</td>\n",
       "      <td>$123,000.00</td>\n",
       "      <td>NaN</td>\n",
       "      <td>$104,000.00</td>\n",
       "      <td>$161,000.00</td>\n",
       "      <td>NaN</td>\n",
       "      <td>False</td>\n",
       "    </tr>\n",
       "    <tr>\n",
       "      <th>2</th>\n",
       "      <td>Harvey Mudd College</td>\n",
       "      <td>California</td>\n",
       "      <td>$71,800.00</td>\n",
       "      <td>$122,000.00</td>\n",
       "      <td>NaN</td>\n",
       "      <td>$96,000.00</td>\n",
       "      <td>$180,000.00</td>\n",
       "      <td>NaN</td>\n",
       "      <td>False</td>\n",
       "    </tr>\n",
       "    <tr>\n",
       "      <th>3</th>\n",
       "      <td>University of California, Berkeley</td>\n",
       "      <td>California</td>\n",
       "      <td>$59,900.00</td>\n",
       "      <td>$112,000.00</td>\n",
       "      <td>$59,500.00</td>\n",
       "      <td>$81,000.00</td>\n",
       "      <td>$149,000.00</td>\n",
       "      <td>$201,000.00</td>\n",
       "      <td>False</td>\n",
       "    </tr>\n",
       "    <tr>\n",
       "      <th>4</th>\n",
       "      <td>Occidental College</td>\n",
       "      <td>California</td>\n",
       "      <td>$51,900.00</td>\n",
       "      <td>$105,000.00</td>\n",
       "      <td>NaN</td>\n",
       "      <td>$54,800.00</td>\n",
       "      <td>$157,000.00</td>\n",
       "      <td>NaN</td>\n",
       "      <td>False</td>\n",
       "    </tr>\n",
       "  </tbody>\n",
       "</table>\n",
       "</div>"
      ],
      "text/plain": [
       "                                School Name      Region Starting_Mid  \\\n",
       "0                       Stanford University  California  $70,400.00    \n",
       "1  California Institute of Technology (CIT)  California  $75,500.00    \n",
       "2                       Harvey Mudd College  California  $71,800.00    \n",
       "3        University of California, Berkeley  California  $59,900.00    \n",
       "4                        Occidental College  California  $51,900.00    \n",
       "\n",
       "        Mid_Sal     Mid_10th      Mid_25th      Mid_75th      Mid_90th  \\\n",
       "0  $129,000.00   $68,400.00    $93,100.00   $184,000.00   $257,000.00    \n",
       "1  $123,000.00           NaN  $104,000.00   $161,000.00            NaN   \n",
       "2  $122,000.00           NaN   $96,000.00   $180,000.00            NaN   \n",
       "3  $112,000.00   $59,500.00    $81,000.00   $149,000.00   $201,000.00    \n",
       "4  $105,000.00           NaN   $54,800.00   $157,000.00            NaN   \n",
       "\n",
       "   Is_Duplicated  \n",
       "0          False  \n",
       "1          False  \n",
       "2          False  \n",
       "3          False  \n",
       "4          False  "
      ]
     },
     "execution_count": 279,
     "metadata": {},
     "output_type": "execute_result"
    }
   ],
   "source": [
    "#Rename the columns\n",
    "Region_Salary_df.columns = ['School Name', 'Region', 'Starting_Mid', 'Mid_Sal', 'Mid_10th', 'Mid_25th', 'Mid_75th', 'Mid_90th','Is_Duplicated']\n",
    "Region_Salary_df.head()\n",
    "\n"
   ]
  },
  {
   "cell_type": "code",
   "execution_count": 280,
   "metadata": {},
   "outputs": [
    {
     "data": {
      "text/html": [
       "<div>\n",
       "<style scoped>\n",
       "    .dataframe tbody tr th:only-of-type {\n",
       "        vertical-align: middle;\n",
       "    }\n",
       "\n",
       "    .dataframe tbody tr th {\n",
       "        vertical-align: top;\n",
       "    }\n",
       "\n",
       "    .dataframe thead th {\n",
       "        text-align: right;\n",
       "    }\n",
       "</style>\n",
       "<table border=\"1\" class=\"dataframe\">\n",
       "  <thead>\n",
       "    <tr style=\"text-align: right;\">\n",
       "      <th></th>\n",
       "      <th>School Name</th>\n",
       "      <th>Region</th>\n",
       "      <th>Starting_Mid</th>\n",
       "      <th>Mid_Sal</th>\n",
       "      <th>Mid_10th</th>\n",
       "      <th>Mid_25th</th>\n",
       "      <th>Mid_75th</th>\n",
       "      <th>Mid_90th</th>\n",
       "      <th>Is_Duplicated</th>\n",
       "    </tr>\n",
       "  </thead>\n",
       "  <tbody>\n",
       "    <tr>\n",
       "      <th>0</th>\n",
       "      <td>Stanford University</td>\n",
       "      <td>California</td>\n",
       "      <td>70400.0</td>\n",
       "      <td>129000.0</td>\n",
       "      <td>68400.0</td>\n",
       "      <td>93100.0</td>\n",
       "      <td>184000.0</td>\n",
       "      <td>257000.0</td>\n",
       "      <td>False</td>\n",
       "    </tr>\n",
       "    <tr>\n",
       "      <th>1</th>\n",
       "      <td>California Institute of Technology (CIT)</td>\n",
       "      <td>California</td>\n",
       "      <td>75500.0</td>\n",
       "      <td>123000.0</td>\n",
       "      <td>NaN</td>\n",
       "      <td>104000.0</td>\n",
       "      <td>161000.0</td>\n",
       "      <td>NaN</td>\n",
       "      <td>False</td>\n",
       "    </tr>\n",
       "    <tr>\n",
       "      <th>2</th>\n",
       "      <td>Harvey Mudd College</td>\n",
       "      <td>California</td>\n",
       "      <td>71800.0</td>\n",
       "      <td>122000.0</td>\n",
       "      <td>NaN</td>\n",
       "      <td>96000.0</td>\n",
       "      <td>180000.0</td>\n",
       "      <td>NaN</td>\n",
       "      <td>False</td>\n",
       "    </tr>\n",
       "    <tr>\n",
       "      <th>3</th>\n",
       "      <td>University of California, Berkeley</td>\n",
       "      <td>California</td>\n",
       "      <td>59900.0</td>\n",
       "      <td>112000.0</td>\n",
       "      <td>59500.0</td>\n",
       "      <td>81000.0</td>\n",
       "      <td>149000.0</td>\n",
       "      <td>201000.0</td>\n",
       "      <td>False</td>\n",
       "    </tr>\n",
       "    <tr>\n",
       "      <th>4</th>\n",
       "      <td>Occidental College</td>\n",
       "      <td>California</td>\n",
       "      <td>51900.0</td>\n",
       "      <td>105000.0</td>\n",
       "      <td>NaN</td>\n",
       "      <td>54800.0</td>\n",
       "      <td>157000.0</td>\n",
       "      <td>NaN</td>\n",
       "      <td>False</td>\n",
       "    </tr>\n",
       "  </tbody>\n",
       "</table>\n",
       "</div>"
      ],
      "text/plain": [
       "                                School Name      Region  Starting_Mid  \\\n",
       "0                       Stanford University  California       70400.0   \n",
       "1  California Institute of Technology (CIT)  California       75500.0   \n",
       "2                       Harvey Mudd College  California       71800.0   \n",
       "3        University of California, Berkeley  California       59900.0   \n",
       "4                        Occidental College  California       51900.0   \n",
       "\n",
       "    Mid_Sal  Mid_10th  Mid_25th  Mid_75th  Mid_90th  Is_Duplicated  \n",
       "0  129000.0   68400.0   93100.0  184000.0  257000.0          False  \n",
       "1  123000.0       NaN  104000.0  161000.0       NaN          False  \n",
       "2  122000.0       NaN   96000.0  180000.0       NaN          False  \n",
       "3  112000.0   59500.0   81000.0  149000.0  201000.0          False  \n",
       "4  105000.0       NaN   54800.0  157000.0       NaN          False  "
      ]
     },
     "execution_count": 280,
     "metadata": {},
     "output_type": "execute_result"
    }
   ],
   "source": [
    "#Create list for loop\n",
    "Dollar_Cols = ['Starting_Mid', 'Mid_Sal', 'Mid_10th', 'Mid_25th', 'Mid_75th', 'Mid_90th']\n",
    "\n",
    "#Loop through DF and convert columns with Dollar $ign (objects) to numeric values (integer)\n",
    "for x in Dollar_Cols:\n",
    "    Region_Salary_df[x] = Region_Salary_df[x].str.replace(\"$\",\"\")\n",
    "    Region_Salary_df[x] = Region_Salary_df[x].str.replace(\",\",\"\")\n",
    "    Region_Salary_df[x] = pd.to_numeric(Region_Salary_df[x])\n",
    "\n",
    "Region_Salary_df.head()"
   ]
  },
  {
   "cell_type": "code",
   "execution_count": 281,
   "metadata": {},
   "outputs": [
    {
     "data": {
      "text/html": [
       "<div>\n",
       "<style scoped>\n",
       "    .dataframe tbody tr th:only-of-type {\n",
       "        vertical-align: middle;\n",
       "    }\n",
       "\n",
       "    .dataframe tbody tr th {\n",
       "        vertical-align: top;\n",
       "    }\n",
       "\n",
       "    .dataframe thead th {\n",
       "        text-align: right;\n",
       "    }\n",
       "</style>\n",
       "<table border=\"1\" class=\"dataframe\">\n",
       "  <thead>\n",
       "    <tr style=\"text-align: right;\">\n",
       "      <th></th>\n",
       "      <th>School Name</th>\n",
       "      <th>Region</th>\n",
       "      <th>Starting_Mid</th>\n",
       "      <th>Mid_Sal</th>\n",
       "      <th>Mid_10th</th>\n",
       "      <th>Mid_25th</th>\n",
       "      <th>Mid_75th</th>\n",
       "      <th>Mid_90th</th>\n",
       "      <th>Is_Duplicated</th>\n",
       "    </tr>\n",
       "  </thead>\n",
       "  <tbody>\n",
       "    <tr>\n",
       "      <th>1</th>\n",
       "      <td>California Institute of Technology (CIT)</td>\n",
       "      <td>California</td>\n",
       "      <td>75500.0</td>\n",
       "      <td>123000.0</td>\n",
       "      <td>NaN</td>\n",
       "      <td>104000.0</td>\n",
       "      <td>161000.0</td>\n",
       "      <td>NaN</td>\n",
       "      <td>False</td>\n",
       "    </tr>\n",
       "    <tr>\n",
       "      <th>2</th>\n",
       "      <td>Harvey Mudd College</td>\n",
       "      <td>California</td>\n",
       "      <td>71800.0</td>\n",
       "      <td>122000.0</td>\n",
       "      <td>NaN</td>\n",
       "      <td>96000.0</td>\n",
       "      <td>180000.0</td>\n",
       "      <td>NaN</td>\n",
       "      <td>False</td>\n",
       "    </tr>\n",
       "    <tr>\n",
       "      <th>0</th>\n",
       "      <td>Stanford University</td>\n",
       "      <td>California</td>\n",
       "      <td>70400.0</td>\n",
       "      <td>129000.0</td>\n",
       "      <td>68400.0</td>\n",
       "      <td>93100.0</td>\n",
       "      <td>184000.0</td>\n",
       "      <td>257000.0</td>\n",
       "      <td>False</td>\n",
       "    </tr>\n",
       "    <tr>\n",
       "      <th>3</th>\n",
       "      <td>University of California, Berkeley</td>\n",
       "      <td>California</td>\n",
       "      <td>59900.0</td>\n",
       "      <td>112000.0</td>\n",
       "      <td>59500.0</td>\n",
       "      <td>81000.0</td>\n",
       "      <td>149000.0</td>\n",
       "      <td>201000.0</td>\n",
       "      <td>False</td>\n",
       "    </tr>\n",
       "    <tr>\n",
       "      <th>5</th>\n",
       "      <td>Cal Poly San Luis Obispo</td>\n",
       "      <td>California</td>\n",
       "      <td>57200.0</td>\n",
       "      <td>101000.0</td>\n",
       "      <td>55000.0</td>\n",
       "      <td>74700.0</td>\n",
       "      <td>133000.0</td>\n",
       "      <td>178000.0</td>\n",
       "      <td>False</td>\n",
       "    </tr>\n",
       "  </tbody>\n",
       "</table>\n",
       "</div>"
      ],
      "text/plain": [
       "                                School Name      Region  Starting_Mid  \\\n",
       "1  California Institute of Technology (CIT)  California       75500.0   \n",
       "2                       Harvey Mudd College  California       71800.0   \n",
       "0                       Stanford University  California       70400.0   \n",
       "3        University of California, Berkeley  California       59900.0   \n",
       "5                  Cal Poly San Luis Obispo  California       57200.0   \n",
       "\n",
       "    Mid_Sal  Mid_10th  Mid_25th  Mid_75th  Mid_90th  Is_Duplicated  \n",
       "1  123000.0       NaN  104000.0  161000.0       NaN          False  \n",
       "2  122000.0       NaN   96000.0  180000.0       NaN          False  \n",
       "0  129000.0   68400.0   93100.0  184000.0  257000.0          False  \n",
       "3  112000.0   59500.0   81000.0  149000.0  201000.0          False  \n",
       "5  101000.0   55000.0   74700.0  133000.0  178000.0          False  "
      ]
     },
     "execution_count": 281,
     "metadata": {},
     "output_type": "execute_result"
    }
   ],
   "source": [
    "#Sort DF by Regions with the Highest to lowest 'Starting_Mid' Salaries\n",
    "Region_Sort = Region_Salary_df.sort_values(['Region', 'Starting_Mid'], ascending=[True, False])\n",
    "Region_Sort.head()"
   ]
  },
  {
   "cell_type": "code",
   "execution_count": 282,
   "metadata": {},
   "outputs": [
    {
     "data": {
      "text/plain": [
       "<matplotlib.axes._subplots.AxesSubplot at 0x125c84b00>"
      ]
     },
     "execution_count": 282,
     "metadata": {},
     "output_type": "execute_result"
    },
    {
     "data": {
      "image/png": "[encoded data removed]",
      "text/plain": [
       "<Figure size 1440x720 with 1 Axes>"
      ]
     },
     "metadata": {
      "needs_background": "light"
     },
     "output_type": "display_data"
    }
   ],
   "source": [
    "# Create a boxplot to compare means Starting Salary\n",
    "Region_Sort.boxplot(\"Starting_Mid\", by=\"Region\", figsize=(20, 10))"
   ]
  },
  {
   "cell_type": "code",
   "execution_count": 283,
   "metadata": {},
   "outputs": [
    {
     "data": {
      "text/plain": [
       "<matplotlib.axes._subplots.AxesSubplot at 0x125f5deb8>"
      ]
     },
     "execution_count": 283,
     "metadata": {},
     "output_type": "execute_result"
    },
    {
     "data": {
      "image/png": "[encoded data removed]",
      "text/plain": [
       "<Figure size 1440x720 with 1 Axes>"
      ]
     },
     "metadata": {
      "needs_background": "light"
     },
     "output_type": "display_data"
    }
   ],
   "source": [
    "# Create a boxplot to compare means Mid_25th Salary\n",
    "Region_Sort.boxplot(\"Mid_25th\", by=\"Region\", figsize=(20, 10))"
   ]
  },
  {
   "cell_type": "code",
   "execution_count": 288,
   "metadata": {},
   "outputs": [
    {
     "ename": "TypeError",
     "evalue": "'int' object is not callable",
     "output_type": "error",
     "traceback": [
      "\u001b[0;31m-------------------------------------------------------------\u001b[0m",
      "\u001b[0;31mTypeError\u001b[0m                   Traceback (most recent call last)",
      "\u001b[0;32m<ipython-input-288-93b880d437a4>\u001b[0m in \u001b[0;36m<module>\u001b[0;34m\u001b[0m\n\u001b[1;32m      3\u001b[0m \u001b[0;34m\u001b[0m\u001b[0m\n\u001b[1;32m      4\u001b[0m \u001b[0;31m# set your own proper title\u001b[0m\u001b[0;34m\u001b[0m\u001b[0;34m\u001b[0m\u001b[0;34m\u001b[0m\u001b[0m\n\u001b[0;32m----> 5\u001b[0;31m \u001b[0mplt\u001b[0m\u001b[0;34m.\u001b[0m\u001b[0mtitle\u001b[0m\u001b[0;34m(\u001b[0m\u001b[0;34m'Mid 90th Salary'\u001b[0m\u001b[0;34m)\u001b[0m\u001b[0;34m\u001b[0m\u001b[0;34m\u001b[0m\u001b[0m\n\u001b[0m\u001b[1;32m      6\u001b[0m \u001b[0;34m\u001b[0m\u001b[0m\n\u001b[1;32m      7\u001b[0m \u001b[0;31m# get rid of the automatic'Boxplot title\u001b[0m\u001b[0;34m\u001b[0m\u001b[0;34m\u001b[0m\u001b[0;34m\u001b[0m\u001b[0m\n",
      "\u001b[0;31mTypeError\u001b[0m: 'int' object is not callable"
     ]
    },
    {
     "data": {
      "image/png": "[encoded data removed]",
      "text/plain": [
       "<Figure size 1080x432 with 1 Axes>"
      ]
     },
     "metadata": {
      "needs_background": "light"
     },
     "output_type": "display_data"
    }
   ],
   "source": [
    "# Create a boxplot to compare means Mid_90th Salary\n",
    "Region_Sort.boxplot(by=[\"Region\"], column=[\"Mid_90th\"], figsize=(15,6))\n",
    "\n",
    "# set your own proper title\n",
    "plt.title('Mid 90th Salary')\n",
    "\n",
    "# get rid of the automatic'Boxplot title\n",
    "plt.suptitle(\"\")\n",
    "\n",
    "# Display box chart\n",
    "plt.show()\n"
   ]
  },
  {
   "cell_type": "code",
   "execution_count": null,
   "metadata": {},
   "outputs": [],
   "source": []
  },
  {
   "cell_type": "code",
   "execution_count": null,
   "metadata": {},
   "outputs": [],
   "source": [
    "#Extract data by Region from the Master DF\n",
    "Cali_Region = Region_Salary_df.loc[Region_Salary_df[\"Region\"] == \"California\", :]\n",
    "Cali_Region.head()\n",
    "\n",
    "#List salary change over the lenght of mid-career by region; from school with hightest Starting_Mid to lowest Mid_90th\n",
    "Cali_Sort = Cali_Region.sort_values(['Starting_Mid', 'School Name'], ascending=[False, True])\n",
    "Cali_Sort.head()\n"
   ]
  },
  {
   "cell_type": "code",
   "execution_count": null,
   "metadata": {},
   "outputs": [],
   "source": [
    "#Give a description of the salary data by region.\n",
    "Cali_Region.describe()"
   ]
  },
  {
   "cell_type": "code",
   "execution_count": null,
   "metadata": {},
   "outputs": [],
   "source": [
    "Western_Region = Region_Salary_df.loc[Region_Salary_df[\"Region\"] == \"Western\", :]\n",
    "Western_Region.head()\n",
    "\n",
    "#List salary change over the lenght of mid-career by region; from school with hightest Starting_Mid to lowest Mid_90th\n",
    "Western_Sort = Western_Region.sort_values(['Starting_Mid', 'School Name'], ascending=[False, True])\n",
    "Western_Sort.head()\n"
   ]
  },
  {
   "cell_type": "code",
   "execution_count": null,
   "metadata": {},
   "outputs": [],
   "source": [
    "Western_Sort.describe()"
   ]
  },
  {
   "cell_type": "code",
   "execution_count": null,
   "metadata": {},
   "outputs": [],
   "source": [
    "#Extract data by Region from the Master DF\n",
    "Northeastern_Region = Region_Salary_df.loc[Region_Salary_df[\"Region\"] == \"Northeastern\", :]\n",
    "Northeastern_Region.head()\n",
    "\n",
    "#List salary change over the lenght of mid-career by region; from school with hightest Starting_Mid to lowest Mid_90th\n",
    "Northeastern_Sort = Northeastern_Region.sort_values(['Starting_Mid', 'School Name'], ascending=[False, True])\n",
    "Northeastern_Sort.head()\n"
   ]
  },
  {
   "cell_type": "code",
   "execution_count": null,
   "metadata": {},
   "outputs": [],
   "source": [
    "Northeastern_Sort.describe()"
   ]
  },
  {
   "cell_type": "code",
   "execution_count": null,
   "metadata": {},
   "outputs": [],
   "source": [
    "#Extract data by Region from the Master DF\n",
    "Midwestern_Region = Region_Salary_df.loc[Region_Salary_df[\"Region\"] == \"Midwestern\", :]\n",
    "Midwestern_Region.head()\n",
    "\n",
    "#List salary change over the lenght of mid-career by region; from school with hightest Starting_Mid to lowest Mid_90th\n",
    "Midwestern_Sort = Midwestern_Region.sort_values(['Starting_Mid', 'School Name'], ascending=[False, True])\n",
    "Midwestern_Sort.head()\n"
   ]
  },
  {
   "cell_type": "code",
   "execution_count": null,
   "metadata": {},
   "outputs": [],
   "source": [
    "Midwestern_Sort.describe()"
   ]
  },
  {
   "cell_type": "code",
   "execution_count": null,
   "metadata": {},
   "outputs": [],
   "source": [
    "#Extract data by Region from the Master DF\n",
    "Southern_Region = Region_Salary_df.loc[Region_Salary_df[\"Region\"] == \"Southern\", :]\n",
    "Southern_Region.head()\n",
    "\n",
    "#List salary change over the lenght of mid-career by region; from school with hightest Starting_Mid to lowest Mid_90th\n",
    "Southern_Sort = Southern_Region.sort_values(['Starting_Mid', 'School Name'], ascending=[False, True])\n",
    "Southern_Sort.head()\n"
   ]
  },
  {
   "cell_type": "code",
   "execution_count": null,
   "metadata": {},
   "outputs": [],
   "source": [
    "Southern_Sort.describe()"
   ]
  },
  {
   "cell_type": "code",
   "execution_count": null,
   "metadata": {},
   "outputs": [],
   "source": [
    "#Find the mean for each period of Salary change and groupby the Region names\n",
    "Region_df = Region_Sort.groupby('Region', as_index=False)['Starting_Mid','Mid_Sal','Mid_10th', 'Mid_25th', 'Mid_75th', 'Mid_90th'].mean()\n",
    "Region_df\n"
   ]
  },
  {
   "cell_type": "code",
   "execution_count": null,
   "metadata": {},
   "outputs": [],
   "source": [
    "# Find the number of schools in each Region\n",
    "School_Count_by_Region = Region_Salary_df['Region'].value_counts()\n",
    "School_Count_by_Region"
   ]
  },
  {
   "cell_type": "code",
   "execution_count": null,
   "metadata": {},
   "outputs": [],
   "source": []
  },
  {
   "cell_type": "code",
   "execution_count": null,
   "metadata": {},
   "outputs": [],
   "source": [
    "# Use DataFrame.plot() in order to create a bar chart of the data\n",
    "School_Count_by_Region.plot(kind=\"bar\", fontsize=20, figsize=(12,6))\n",
    "\n",
    "# Set a title for the chart\n",
    "plt.title(\"Number of Schools by Region\", fontsize=35)\n",
    "plt.show()\n"
   ]
  },
  {
   "cell_type": "code",
   "execution_count": null,
   "metadata": {},
   "outputs": [],
   "source": [
    "#Create new DF that Sorts Region_df by Hightest to Lowest 'Starting_Mid'\n",
    "Region_by_Start_Mid = Region_df.sort_values('Starting_Mid', ascending=False)\n",
    "Region_by_Start_Mid"
   ]
  },
  {
   "cell_type": "code",
   "execution_count": null,
   "metadata": {},
   "outputs": [],
   "source": [
    "#Create new DF that Sorts Region_df by Hightest to Lowest 'Mid_75th'\n",
    "Region_by_Mid = Region_df.sort_values('Mid_75th', ascending=False)\n",
    "Region_by_Mid"
   ]
  },
  {
   "cell_type": "code",
   "execution_count": null,
   "metadata": {},
   "outputs": [],
   "source": [
    "#Create new DF that Sorts Region_df by Hightest to Lowest 'Mid_90th'\n",
    "Region_by_Mid_Late = Region_df.sort_values('Mid_90th', ascending=False)\n",
    "Region_by_Mid_Late"
   ]
  },
  {
   "cell_type": "code",
   "execution_count": null,
   "metadata": {},
   "outputs": [],
   "source": []
  },
  {
   "cell_type": "raw",
   "metadata": {},
   "source": []
  }
 ],
 "metadata": {
  "kernelspec": {
   "display_name": "Python 3",
   "language": "python",
   "name": "python3"
  },
  "language_info": {
   "codemirror_mode": {
    "name": "ipython",
    "version": 3
   },
   "file_extension": ".py",
   "mimetype": "text/x-python",
   "name": "python",
   "nbconvert_exporter": "python",
   "pygments_lexer": "ipython3",
   "version": "3.7.3"
  }
 },
 "nbformat": 4,
 "nbformat_minor": 2
}
